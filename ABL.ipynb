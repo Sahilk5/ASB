{
  "nbformat": 4,
  "nbformat_minor": 0,
  "metadata": {
    "colab": {
      "name": "ABL.ipynb",
      "provenance": [],
      "authorship_tag": "ABX9TyPd0EPz6gZ87rFwUL06L42N",
      "include_colab_link": true
    },
    "kernelspec": {
      "name": "python3",
      "display_name": "Python 3"
    },
    "language_info": {
      "name": "python"
    }
  },
  "cells": [
    {
      "cell_type": "markdown",
      "metadata": {
        "id": "view-in-github",
        "colab_type": "text"
      },
      "source": [
        "<a href=\"https://colab.research.google.com/github/Sahilk5/ASB/blob/main/ABL.ipynb\" target=\"_parent\"><img src=\"https://colab.research.google.com/assets/colab-badge.svg\" alt=\"Open In Colab\"/></a>"
      ]
    },
    {
      "cell_type": "code",
      "source": [
        "print(\"Welcome to my Programming Language\")"
      ],
      "metadata": {
        "colab": {
          "base_uri": "https://localhost:8080/"
        },
        "id": "TFDoYQ1FXhyx",
        "outputId": "2c0a0d2a-0141-4e2a-a80b-f0112cbd2c41"
      },
      "execution_count": 269,
      "outputs": [
        {
          "output_type": "stream",
          "name": "stdout",
          "text": [
            "Welcome to my Programming Language\n"
          ]
        }
      ]
    },
    {
      "cell_type": "code",
      "execution_count": 270,
      "metadata": {
        "id": "0-B-JY1IrIrA"
      },
      "outputs": [],
      "source": [
        "import keyword\n",
        "import re"
      ]
    },
    {
      "cell_type": "code",
      "source": [
        "# Environment name storage\n",
        "\n",
        "class Environment:\n",
        "  # record - Store of all local variables\n",
        "  def __init__(self, record = {}):\n",
        "    self.record = record\n",
        "\n",
        "  # Add name entry in record\n",
        "  def define(self, name, value):\n",
        "    self.record[name] = value\n",
        "    return value\n",
        "  def lookupVar(self, name):\n",
        "    if name in self.record:\n",
        "      return self.record[name]\n",
        "    else:\n",
        "      raise NameError(\"No variable named {} found\".format(name))"
      ],
      "metadata": {
        "id": "kJEyGDntyU2O"
      },
      "execution_count": 271,
      "outputs": []
    },
    {
      "cell_type": "code",
      "source": [
        "class Abl:\n",
        "    # Create an Abl instance with global env\n",
        "    def __init__(self, Global = Environment()):\n",
        "      self.Global = Global\n",
        "\n",
        "    # Evaluate an expression in the given env\n",
        "    def evaluate(self, exp, env = None):\n",
        "      # Set env if needed\n",
        "      if not env: env = self.Global\n",
        "      # Data types\n",
        "      if isNumber(exp):\n",
        "        return exp\n",
        "      \n",
        "      if isString(exp):\n",
        "        return exp[1:-1]\n",
        "      # Math operations\n",
        "      if exp[0] is '+':\n",
        "        return self.evaluate(exp[1]) + self.evaluate(exp[2])\n",
        "      \n",
        "      if exp[0] is '-':\n",
        "        return self.evaluate(exp[1]) - self.evaluate(exp[2])\n",
        "\n",
        "      if exp[0] is '*':\n",
        "        return self.evaluate(exp[1]) * self.evaluate(exp[2])\n",
        "\n",
        "      if exp[0] is '/':\n",
        "        return self.evaluate(exp[1]) / self.evaluate(exp[2])\n",
        "      # Variables\n",
        "      # Declare\n",
        "      if exp[0] is 'var':\n",
        "        [_, name, value] = exp\n",
        "        return env.define(name, self.evaluate(value))\n",
        "      # Access\n",
        "      if isVariableName(exp):\n",
        "        if len(exp) is 1:\n",
        "          exp = exp[0]\n",
        "        return env.lookupVar(exp)\n",
        "      # Exception\n",
        "      raise Exception (\"Unimplemented  {}\".format(exp))\n",
        "\n",
        "\n",
        "\n",
        "def isNumber(exp):\n",
        "  if type(exp) is int or type(exp) is float:\n",
        "    return True\n",
        "  return False\n",
        "\n",
        "def isString(exp):\n",
        "  return type(exp) is str and exp[0] is '\"' and exp[-1] is '\"'\n",
        "\n",
        "def isVariableName(exp):\n",
        "  if len(exp) is 1:\n",
        "    exp = exp[0]\n",
        "  variableNameFormat = re.compile(\"^([a-zA-Z])[a-zA-Z0-9_]*$\")\n",
        "  return type(exp) is str and variableNameFormat.match(exp)"
      ],
      "metadata": {
        "id": "rOmCEzf9rUbd"
      },
      "execution_count": 272,
      "outputs": []
    },
    {
      "cell_type": "code",
      "source": [
        "# Tests\n",
        "\n",
        "abl = Abl(Environment(\n",
        "    {\n",
        "        'True'  : True,\n",
        "        'False' : False,\n",
        "        'None'  : None,\n",
        "        'VERSION' : '1.0'\n",
        "    }\n",
        "))\n",
        "\n",
        "# Math\n",
        "assert abl.evaluate(1) == 1\n",
        "assert abl.evaluate(1.0) == 1.0\n",
        "assert abl.evaluate('\"Hello World\"') == 'Hello World'\n",
        "\n",
        "assert abl.evaluate(['+', 1, 3]) == 4\n",
        "assert abl.evaluate(['+', 1.2, 3.3]) == 4.5\n",
        "assert abl.evaluate(['+', ['+', 1, 4], 4]) == 9\n",
        "assert abl.evaluate(['-', 4, 3]) == 1\n",
        "assert abl.evaluate(['*', 6, 3]) == 18\n",
        "assert abl.evaluate(['/', 9, 3]) == 3\n",
        "\n",
        "assert abl.evaluate(['+', '\"Hello \"', '\"World\"']) == \"Hello World\"\n",
        "\n",
        "# Var\n",
        "assert abl.evaluate(['var', 'x', 10]) == 10\n",
        "assert abl.evaluate(['x']) == 10\n",
        "assert abl.evaluate(['var', 'y', 20]) == 20\n",
        "assert abl.evaluate(['var', 'flag', 'True']) == True\n",
        "assert abl.evaluate(['var', 'xy', ['*', 'x', 'y']]) == 200\n",
        "assert abl.evaluate(['VERSION']) == '1.0'\n",
        "\n",
        "print(\"All assertions succeded\")"
      ],
      "metadata": {
        "colab": {
          "base_uri": "https://localhost:8080/"
        },
        "id": "WBTrLfCLttHP",
        "outputId": "659d8606-0e01-4fd4-d48b-bc5e023cfae4"
      },
      "execution_count": 273,
      "outputs": [
        {
          "output_type": "stream",
          "name": "stdout",
          "text": [
            "All assertions succeded\n"
          ]
        }
      ]
    },
    {
      "cell_type": "code",
      "source": [
        ""
      ],
      "metadata": {
        "id": "fbqu6HRL-2ld"
      },
      "execution_count": 273,
      "outputs": []
    }
  ]
}