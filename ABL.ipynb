{
  "nbformat": 4,
  "nbformat_minor": 0,
  "metadata": {
    "colab": {
      "name": "ABL.ipynb",
      "provenance": [],
      "authorship_tag": "ABX9TyMS9OvFs6Bu9/rL1pZZ55fk",
      "include_colab_link": true
    },
    "kernelspec": {
      "name": "python3",
      "display_name": "Python 3"
    },
    "language_info": {
      "name": "python"
    }
  },
  "cells": [
    {
      "cell_type": "markdown",
      "metadata": {
        "id": "view-in-github",
        "colab_type": "text"
      },
      "source": [
        "<a href=\"https://colab.research.google.com/github/Sahilk5/ASB/blob/main/ABL.ipynb\" target=\"_parent\"><img src=\"https://colab.research.google.com/assets/colab-badge.svg\" alt=\"Open In Colab\"/></a>"
      ]
    },
    {
      "cell_type": "code",
      "source": [
        "print(\"Welcome to my Programming Language\")"
      ],
      "metadata": {
        "colab": {
          "base_uri": "https://localhost:8080/"
        },
        "id": "TFDoYQ1FXhyx",
        "outputId": "78eb1b7d-9e82-47e1-b46f-cf899e84180a"
      },
      "execution_count": 2,
      "outputs": [
        {
          "output_type": "stream",
          "name": "stdout",
          "text": [
            "Welcome to my Programming Language\n"
          ]
        }
      ]
    },
    {
      "cell_type": "code",
      "execution_count": 3,
      "metadata": {
        "id": "0-B-JY1IrIrA"
      },
      "outputs": [],
      "source": [
        "import keyword\n",
        "import re\n"
      ]
    },
    {
      "cell_type": "code",
      "source": [
        "# Environment name storage\n",
        "\n",
        "class Environment:\n",
        "  # record - Store of all local variables\n",
        "  def __init__(self, record = {}, parent = None):\n",
        "    self.record = record\n",
        "    self.parent = parent\n",
        "  \n",
        "  # Identifier resolution\n",
        "  def resolve(self, name):\n",
        "    if name in self.record:\n",
        "      return self\n",
        "    \n",
        "    if self.parent is None:\n",
        "      raise NameError(\"No variable named '{}' found\".format(name))\n",
        "    \n",
        "    return self.parent.resolve(name)\n",
        "\n",
        "  # Add name entry in record\n",
        "  def define(self, name, value):\n",
        "    self.record[name] = value\n",
        "    return value\n",
        "  \n",
        "  # Update variable if present in record\n",
        "  def assign(self, name, value):\n",
        "    self.resolve(name).record[name] = value\n",
        "    return value\n",
        "\n",
        "  # Find variable in current env and parent enviroments\n",
        "  def lookupVar(self, name):\n",
        "    return self.resolve(name).record[name]\n"
      ],
      "metadata": {
        "id": "kJEyGDntyU2O"
      },
      "execution_count": 4,
      "outputs": []
    },
    {
      "cell_type": "code",
      "source": [
        "class Abl:\n",
        "    # Create an Abl instance with global env\n",
        "    def __init__(self, Global = Environment()):\n",
        "      self.Global = Global\n",
        "\n",
        "    # Evaluates all the expressions withing a block\n",
        "    def __eval_block(self, block, env):\n",
        "      result = 0\n",
        "      block = block[1:]\n",
        "      for exp in block:\n",
        "        result = self.evaluate(exp, env)\n",
        "      return result\n",
        "\n",
        "    # Evaluate an expression in the given env\n",
        "    def evaluate(self, exp, env = None):\n",
        "      # Set env if needed\n",
        "      if not env: env = self.Global\n",
        "      # Data types\n",
        "      if isNumber(exp):\n",
        "        return exp\n",
        "      \n",
        "      if isString(exp):\n",
        "        return exp[1:-1]\n",
        "      # Math operations\n",
        "      if exp[0] is '+':\n",
        "        return self.evaluate(exp[1], env) + self.evaluate(exp[2], env)\n",
        "      \n",
        "      if exp[0] is '-':\n",
        "        return self.evaluate(exp[1], env) - self.evaluate(exp[2], env)\n",
        "\n",
        "      if exp[0] is '*':\n",
        "        return self.evaluate(exp[1], env) * self.evaluate(exp[2], env)\n",
        "\n",
        "      if exp[0] is '/':\n",
        "        return self.evaluate(exp[1], env) / self.evaluate(exp[2], env)\n",
        "      \n",
        "      # Comparison operators\n",
        "      if exp[0] is '>':\n",
        "        return self.evaluate(exp[1], env) > self.evaluate(exp[2], env)\n",
        "      \n",
        "      if exp[0] is '<':\n",
        "        return self.evaluate(exp[1], env) < self.evaluate(exp[2], env)\n",
        "\n",
        "      if exp[0] is '==':\n",
        "        return self.evaluate(exp[1], env) == self.evaluate(exp[2], env)\n",
        "\n",
        "      if exp[0] is '>=':\n",
        "        return self.evaluate(exp[1], env) >= self.evaluate(exp[2], env)\n",
        "      \n",
        "      if exp[0] is '<=':\n",
        "        return self.evaluate(exp[1], env) <= self.evaluate(exp[2], env)\n",
        "      # Block\n",
        "      if exp[0] is 'begin':\n",
        "        block_env = Environment({}, env)\n",
        "        return self.__eval_block(exp, block_env)\n",
        "\n",
        "      # Variables\n",
        "      # Declare\n",
        "      if exp[0] is 'var':\n",
        "        [_, name, value] = exp\n",
        "        return env.define(name, self.evaluate(value, env))\n",
        "      # Set\n",
        "      if exp[0] is 'set':\n",
        "        [_, name, value] = exp\n",
        "        return env.assign(name, self.evaluate(value, env))\n",
        "      # Access\n",
        "      if isVariableName(exp):\n",
        "        if len(exp) is 1:\n",
        "          exp = exp[0]\n",
        "        return env.lookupVar(exp)\n",
        "\n",
        "      # if expression\n",
        "      if(exp[0] is 'if'):\n",
        "        [_tag, condition, consequent, alternate] = exp\n",
        "        if self.evaluate(condition):\n",
        "          return self.evaluate(consequent, env)\n",
        "        else:\n",
        "          return self.evaluate(alternate, env)\n",
        "\n",
        "      # Exception\n",
        "      raise Exception (\"Unimplemented  {}\".format(exp))\n",
        "\n",
        "\n",
        "\n",
        "\n",
        "def isNumber(exp):\n",
        "  if type(exp) is int or type(exp) is float:\n",
        "    return True\n",
        "  return False\n",
        "\n",
        "def isString(exp):\n",
        "  return type(exp) is str and exp[0] is '\"' and exp[-1] is '\"'\n",
        "\n",
        "def isVariableName(exp):\n",
        "  if len(exp) is 1:\n",
        "    exp = exp[0]\n",
        "  variableNameFormat = re.compile(\"^([a-zA-Z])[a-zA-Z0-9_]*$\")\n",
        "  return type(exp) is str and variableNameFormat.match(exp)"
      ],
      "metadata": {
        "id": "rOmCEzf9rUbd"
      },
      "execution_count": 7,
      "outputs": []
    },
    {
      "cell_type": "code",
      "source": [
        "# Tests\n",
        "\n",
        "abl = Abl(Environment(\n",
        "    {\n",
        "        'True'  : True,\n",
        "        'False' : False,\n",
        "        'None'  : None,\n",
        "        'VERSION' : '1.0'\n",
        "    }\n",
        "))\n",
        "\n",
        "# Math\n",
        "assert abl.evaluate(1) == 1\n",
        "assert abl.evaluate(1.0) == 1.0\n",
        "assert abl.evaluate('\"Hello World\"') == 'Hello World'\n",
        "\n",
        "assert abl.evaluate(['+', 1, 3]) == 4\n",
        "assert abl.evaluate(['+', 1.2, 3.3]) == 4.5\n",
        "assert abl.evaluate(['+', ['+', 1, 4], 4]) == 9\n",
        "assert abl.evaluate(['-', 4, 3]) == 1\n",
        "assert abl.evaluate(['*', 6, 3]) == 18\n",
        "assert abl.evaluate(['/', 9, 3]) == 3\n",
        "\n",
        "assert abl.evaluate(['+', '\"Hello \"', '\"World\"']) == \"Hello World\"\n",
        "\n",
        "# Var\n",
        "assert abl.evaluate(['var', 'x', 10]) == 10\n",
        "assert abl.evaluate(['x']) == 10\n",
        "assert abl.evaluate(['var', 'y', 20]) == 20\n",
        "assert abl.evaluate(['var', 'flag', 'True']) == True\n",
        "assert abl.evaluate(['var', 'xy', ['*', 'x', 'y']]) == 200\n",
        "assert abl.evaluate(['VERSION']) == '1.0'\n",
        "\n",
        "# Blocks\n",
        "assert abl.evaluate(\n",
        "    ['begin',\n",
        "     ['var', 'x', 10],\n",
        "     ['var', 'y', 20],\n",
        "     ['+', ['*', 'x', 'y'], 30],\n",
        "     ])  == 230\n",
        "\n",
        "assert abl.evaluate(\n",
        "    ['begin',\n",
        "     ['var', 'x', 10],\n",
        "     ['begin',\n",
        "      ['var', 'x', 20],\n",
        "      ['x']],\n",
        "     'x']) == 10\n",
        "\n",
        "assert abl.evaluate(\n",
        "    ['begin',\n",
        "     ['var', 'x', 10],\n",
        "     ['begin',\n",
        "      ['set', 'x', 20],\n",
        "      ['x']],\n",
        "     'x']) == 20\n",
        "\n",
        "assert abl.evaluate(\n",
        "    ['begin',\n",
        "     ['var', 'a', 10],\n",
        "     ['var', 'b', ['begin',\n",
        "                   ['var', 'x', ['+', 'a', 10]],\n",
        "                   ['x']]],\n",
        "     ['b']]) == 20\n",
        "\n",
        "# if condition\n",
        "assert abl.evaluate(\n",
        "    ['begin',\n",
        "     ['var', 'x', 10],\n",
        "     ['var', 'y', 0],\n",
        "     ['if', ['>', 'x', 10],\n",
        "      ['set', 'y', 20],\n",
        "      ['set', 'y', 30],],\n",
        "     ['y']]) == 30\n",
        "\n",
        "\n",
        "print(\"All assertions succeded\")"
      ],
      "metadata": {
        "colab": {
          "base_uri": "https://localhost:8080/"
        },
        "id": "WBTrLfCLttHP",
        "outputId": "46d6ed4f-e750-43e3-a9ff-02666c5ff123"
      },
      "execution_count": 9,
      "outputs": [
        {
          "output_type": "stream",
          "name": "stdout",
          "text": [
            "All assertions succeded\n"
          ]
        }
      ]
    },
    {
      "cell_type": "code",
      "source": [
        ""
      ],
      "metadata": {
        "id": "CjZraU-vXBUn"
      },
      "execution_count": null,
      "outputs": []
    }
  ]
}